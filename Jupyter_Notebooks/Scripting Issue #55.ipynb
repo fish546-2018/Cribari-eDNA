{
 "cells": [
  {
   "cell_type": "markdown",
   "metadata": {},
   "source": [
    "Create either a script, jupyter notebook, or R markdown file that performs a relevant operation(s) on a number of files (>4) \"automatically\".\n",
    "\n",
    "This should be in your class repo and should be written in a manner that when I clone the repo I can generate the output.\n",
    "\n",
    "For instance the files will need to be in the repo or the script will need to be able to pull them from a public url. Note absolute paths will not work.\n",
    "\n",
    "please place the url to the script, jupyter notebook, or R markdown file below."
   ]
  }
 ],
 "metadata": {
  "kernelspec": {
   "display_name": "Python 3",
   "language": "python",
   "name": "python3"
  },
  "language_info": {
   "codemirror_mode": {
    "name": "ipython",
    "version": 3
   },
   "file_extension": ".py",
   "mimetype": "text/x-python",
   "name": "python",
   "nbconvert_exporter": "python",
   "pygments_lexer": "ipython3",
   "version": "3.7.0"
  }
 },
 "nbformat": 4,
 "nbformat_minor": 2
}
